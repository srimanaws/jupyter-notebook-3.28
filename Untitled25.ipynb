{
 "cells": [
  {
   "cell_type": "code",
   "execution_count": 2,
   "id": "61afd91c-7b7b-4737-b567-4aa049cfe8b1",
   "metadata": {},
   "outputs": [
    {
     "name": "stdout",
     "output_type": "stream",
     "text": [
      "For the values [9, 11, 22, 34, 17, 22, 34, 22, 40]:\n",
      " - Mean (average) is 23.44\n",
      " - Median (middle value) is 22\n",
      " - Mode (most frequent value) is 22\n",
      "\n",
      "After adding another 34, the values are now [9, 11, 22, 34, 17, 22, 34, 22, 40, 34]:\n",
      " - Updated Mean is 24.50\n",
      " - Updated Median is 22.0\n",
      " - Updated Mode is 22\n"
     ]
    }
   ],
   "source": [
    "#Exercise 3.28 by sriman\n",
    "import statistics\n",
    "\n",
    "# Original list of values\n",
    "values = [9, 11, 22, 34, 17, 22, 34, 22, 40]\n",
    "\n",
    "# Calculate mean, median, and mode for the original list\n",
    "mean = statistics.mean(values)\n",
    "median = statistics.median(values)\n",
    "mode = statistics.mode(values)\n",
    "\n",
    "# Print results for the original list\n",
    "print(f'For the values {values}:')\n",
    "print(f' - Mean (average) is {mean:.2f}')\n",
    "print(f' - Median (middle value) is {median}')\n",
    "print(f' - Mode (most frequent value) is {mode}')\n",
    "\n",
    "# Add another 34 to the list\n",
    "values.append(34)\n",
    "\n",
    "# Recalculate mean, median, and mode with the updated list\n",
    "mean_updated = statistics.mean(values)\n",
    "median_updated = statistics.median(values)\n",
    "\n",
    "# Handle the case where there might be multiple modes\n",
    "try:\n",
    "    mode_updated = statistics.mode(values)\n",
    "except statistics.StatisticsError:\n",
    "    mode_updated = 'There are multiple modes or no unique mode'\n",
    "\n",
    "# Print results for the updated list\n",
    "print(f'\\nAfter adding another 34, the values are now {values}:')\n",
    "print(f' - Updated Mean is {mean_updated:.2f}')\n",
    "print(f' - Updated Median is {median_updated}')\n",
    "print(f' - Updated Mode is {mode_updated}')\n"
   ]
  },
  {
   "cell_type": "code",
   "execution_count": null,
   "id": "3d39f1cc-ea2b-4718-9504-6a67319f4df0",
   "metadata": {},
   "outputs": [],
   "source": []
  }
 ],
 "metadata": {
  "kernelspec": {
   "display_name": "Python 3 (ipykernel)",
   "language": "python",
   "name": "python3"
  },
  "language_info": {
   "codemirror_mode": {
    "name": "ipython",
    "version": 3
   },
   "file_extension": ".py",
   "mimetype": "text/x-python",
   "name": "python",
   "nbconvert_exporter": "python",
   "pygments_lexer": "ipython3",
   "version": "3.12.4"
  }
 },
 "nbformat": 4,
 "nbformat_minor": 5
}
